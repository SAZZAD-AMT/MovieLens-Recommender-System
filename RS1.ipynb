{
 "cells": [
  {
   "cell_type": "code",
   "execution_count": 4,
   "metadata": {},
   "outputs": [],
   "source": [
    "import pandas as pd\n",
    "import numpy as np\n",
    "from sklearn.metrics.pairwise import cosine_similarity\n",
    "import ipywidgets as widgets\n",
    "from IPython.display import display"
   ]
  },
  {
   "cell_type": "code",
   "execution_count": 5,
   "metadata": {},
   "outputs": [],
   "source": [
    "movies = pd.read_csv('movies.csv')\n",
    "ratings = pd.read_csv('ratings.csv')\n",
    "tags = pd.read_csv('tags.csv')\n",
    "links = pd.read_csv('links.csv')\n"
   ]
  },
  {
   "cell_type": "code",
   "execution_count": 6,
   "metadata": {},
   "outputs": [],
   "source": [
    "movie_ratings = pd.merge(movies, ratings, on='movieId')\n"
   ]
  },
  {
   "cell_type": "code",
   "execution_count": 7,
   "metadata": {},
   "outputs": [],
   "source": [
    "mean_ratings = movie_ratings.groupby(['movieId', 'title'])['rating'].mean().reset_index()\n"
   ]
  },
  {
   "cell_type": "code",
   "execution_count": 8,
   "metadata": {},
   "outputs": [],
   "source": [
    "ratings_pivot = movie_ratings.pivot_table(index='userId', columns='title', values='rating').fillna(0)\n"
   ]
  },
  {
   "cell_type": "code",
   "execution_count": 9,
   "metadata": {},
   "outputs": [],
   "source": [
    "movie_similarity = cosine_similarity(ratings_pivot)\n"
   ]
  },
  {
   "cell_type": "code",
   "execution_count": 10,
   "metadata": {},
   "outputs": [],
   "source": [
    "def get_recommendations(movie_title, movie_similarity, mean_ratings):\n",
    "    idx = mean_ratings[mean_ratings['title'] == movie_title].index[0]\n",
    "    sim_scores = list(enumerate(movie_similarity[idx]))\n",
    "    sim_scores = sorted(sim_scores, key=lambda x: x[1], reverse=True)\n",
    "    sim_indices = [i[0] for i in sim_scores[1:11]]\n",
    "    return mean_ratings.iloc[sim_indices]['title']\n"
   ]
  },
  {
   "cell_type": "code",
   "execution_count": 13,
   "metadata": {},
   "outputs": [
    {
     "name": "stdout",
     "output_type": "stream",
     "text": [
      "TOP 10 RECOMMENDATION : \n",
      "                                  title    rating  movieId\n",
      "438         Next Karate Kid, The (1994)  2.366667      502\n",
      "318               I Love Trouble (1994)  2.687500      360\n",
      "295  What's Eating Gilbert Grape (1993)  3.766234      337\n",
      "548                Moll Flanders (1996)  3.000000      650\n",
      "580                      Flipper (1996)  3.050000      711\n",
      "299             Double Happiness (1994)  4.000000      341\n",
      "514                 Pretty Woman (1990)  3.485185      597\n",
      "493           Bhaji on the Beach (1993)  3.500000      568\n",
      "14              Cutthroat Island (1995)  3.000000       15\n",
      "510    Silence of the Lambs, The (1991)  4.161290      593\n"
     ]
    },
    {
     "data": {
      "image/png": "[encoded data removed]",
      "text/plain": [
       "<Figure size 640x480 with 1 Axes>"
      ]
     },
     "metadata": {},
     "output_type": "display_data"
    }
   ],
   "source": [
    "print(\"TOP 10 RECOMMENDATION : \")\n",
    "recommended_movies = get_recommendations('Lamerica (1994)', movie_similarity, mean_ratings)\n",
    "print(recommended_movies)\n",
    "\n",
    "import matplotlib.pyplot as plt\n",
    "recommended_ratings = mean_ratings[mean_ratings['title'].isin(recommended_movies)]\n",
    "recommended_ratings = recommended_ratings.set_index('title')['rating']\n",
    "\n",
    "plt.bar(recommended_ratings.index, recommended_ratings.values)\n",
    "\n",
    "plt.xlabel('Movie Title')\n",
    "plt.ylabel('Average Rating')\n",
    "plt.title('Top 10 Recommended Movies Based on Similarity to Toy Story')\n",
    "\n",
    "plt.xticks(rotation=90)\n",
    "plt.show()"
   ]
  },
  {
   "cell_type": "code",
   "execution_count": 12,
   "metadata": {},
   "outputs": [
    {
     "data": {
      "application/vnd.jupyter.widget-view+json": {
       "model_id": "c3dceb30e0114a358b1f5571e9661d36",
       "version_major": 2,
       "version_minor": 0
      },
      "text/plain": [
       "interactive(children=(Dropdown(description='Select a movie:', options=('Toy Story (1995)', 'Jumanji (1995)', '…"
      ]
     },
     "execution_count": 12,
     "metadata": {},
     "output_type": "execute_result"
    }
   ],
   "source": [
    "movie_ratings = pd.merge(movies, ratings, on='movieId')\n",
    "mean_ratings = movie_ratings.groupby(['movieId', 'title'])['rating'].mean().reset_index()\n",
    "ratings_pivot = movie_ratings.pivot_table(index='userId', columns='title', values='rating').fillna(0)\n",
    "movie_similarity = cosine_similarity(ratings_pivot)\n",
    "\n",
    "movie_titles = list(movies['title'])\n",
    "\n",
    "movie_dropdown = widgets.Dropdown(options=movie_titles, description='Select a movie:')\n",
    "\n",
    "\n",
    "def get_recommendations(movie_title, movie_similarity, mean_ratings):\n",
    "    idx = mean_ratings[mean_ratings['title'] == movie_title].index[0]\n",
    "    sim_scores = list(enumerate(movie_similarity[idx]))\n",
    "    sim_scores = sorted(sim_scores, key=lambda x: x[1], reverse=True)\n",
    "    sim_indices = [i[0] for i in sim_scores[1:11]]\n",
    "    return mean_ratings.iloc[sim_indices][['title', 'rating', 'movieId']]\n",
    "\n",
    "def show_recommendations(movie_title):\n",
    "    recommended_movies = get_recommendations(movie_title, movie_similarity, mean_ratings)\n",
    "    recommended_ratings = mean_ratings[mean_ratings['title'].isin(recommended_movies['title'])]\n",
    "    recommended_ratings = recommended_ratings.set_index('title')['rating'].sort_values(ascending=False)[:10]\n",
    "    ax = recommended_ratings.plot(kind='bar', rot=90)\n",
    "    ax.set_xlabel('Movie Title')\n",
    "    ax.set_ylabel('Average Rating')\n",
    "    ax.set_title(f'Top 10 Recommended Movies Based on Similarity to {movie_title}')\n",
    "    plt.show()\n",
    "\n",
    "widgets.interactive(show_recommendations, movie_title=movie_dropdown)"
   ]
  }
 ],
 "metadata": {
  "kernelspec": {
   "display_name": "Python 3",
   "language": "python",
   "name": "python3"
  },
  "language_info": {
   "codemirror_mode": {
    "name": "ipython",
    "version": 3
   },
   "file_extension": ".py",
   "mimetype": "text/x-python",
   "name": "python",
   "nbconvert_exporter": "python",
   "pygments_lexer": "ipython3",
   "version": "3.9.5"
  },
  "orig_nbformat": 4
 },
 "nbformat": 4,
 "nbformat_minor": 2
}
