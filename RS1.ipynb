{
 "cells": [
  {
   "cell_type": "code",
   "execution_count": 1,
   "metadata": {},
   "outputs": [],
   "source": [
    "import pandas as pd\n",
    "import numpy as np\n",
    "from sklearn.metrics.pairwise import cosine_similarity\n",
    "import ipywidgets as widgets\n",
    "from IPython.display import display"
   ]
  },
  {
   "cell_type": "code",
   "execution_count": 2,
   "metadata": {},
   "outputs": [],
   "source": [
    "movies = pd.read_csv('movies.csv')\n",
    "ratings = pd.read_csv('ratings.csv')\n",
    "tags = pd.read_csv('tags.csv')\n",
    "links = pd.read_csv('links.csv')\n"
   ]
  },
  {
   "cell_type": "code",
   "execution_count": 3,
   "metadata": {},
   "outputs": [],
   "source": [
    "movie_ratings = pd.merge(movies, ratings, on='movieId')\n"
   ]
  },
  {
   "cell_type": "code",
   "execution_count": 4,
   "metadata": {},
   "outputs": [],
   "source": [
    "mean_ratings = movie_ratings.groupby(['movieId', 'title'])['rating'].mean().reset_index()\n"
   ]
  },
  {
   "cell_type": "code",
   "execution_count": 5,
   "metadata": {},
   "outputs": [],
   "source": [
    "ratings_pivot = movie_ratings.pivot_table(index='userId', columns='title', values='rating').fillna(0)\n"
   ]
  },
  {
   "cell_type": "code",
   "execution_count": 6,
   "metadata": {},
   "outputs": [],
   "source": [
    "movie_similarity = cosine_similarity(ratings_pivot)\n"
   ]
  },
  {
   "cell_type": "code",
   "execution_count": 7,
   "metadata": {},
   "outputs": [],
   "source": [
    "def get_recommendations(movie_title, movie_similarity, mean_ratings):\n",
    "    idx = mean_ratings[mean_ratings['title'] == movie_title].index[0]\n",
    "    sim_scores = list(enumerate(movie_similarity[idx]))\n",
    "    sim_scores = sorted(sim_scores, key=lambda x: x[1], reverse=True)\n",
    "    sim_indices = [i[0] for i in sim_scores[1:11]]\n",
    "    return mean_ratings.iloc[sim_indices]['title']\n"
   ]
  },
  {
   "cell_type": "code",
   "execution_count": 8,
   "metadata": {},
   "outputs": [
    {
     "name": "stdout",
     "output_type": "stream",
     "text": [
      "TOP 10 RECOMMENDATION : \n"
     ]
    },
    {
     "ename": "IndexError",
     "evalue": "index 618 is out of bounds for axis 0 with size 610",
     "output_type": "error",
     "traceback": [
      "\u001b[1;31m---------------------------------------------------------------------------\u001b[0m",
      "\u001b[1;31mIndexError\u001b[0m                                Traceback (most recent call last)",
      "Cell \u001b[1;32mIn[8], line 2\u001b[0m\n\u001b[0;32m      1\u001b[0m \u001b[39mprint\u001b[39m(\u001b[39m\"\u001b[39m\u001b[39mTOP 10 RECOMMENDATION : \u001b[39m\u001b[39m\"\u001b[39m)\n\u001b[1;32m----> 2\u001b[0m recommended_movies \u001b[39m=\u001b[39m get_recommendations(\u001b[39m'\u001b[39;49m\u001b[39mHunchback of Notre Dame, The (1996)\u001b[39;49m\u001b[39m'\u001b[39;49m, movie_similarity, mean_ratings)\n\u001b[0;32m      3\u001b[0m \u001b[39mprint\u001b[39m(recommended_movies)\n\u001b[0;32m      5\u001b[0m \u001b[39mimport\u001b[39;00m \u001b[39mmatplotlib\u001b[39;00m\u001b[39m.\u001b[39;00m\u001b[39mpyplot\u001b[39;00m \u001b[39mas\u001b[39;00m \u001b[39mplt\u001b[39;00m\n",
      "Cell \u001b[1;32mIn[7], line 3\u001b[0m, in \u001b[0;36mget_recommendations\u001b[1;34m(movie_title, movie_similarity, mean_ratings)\u001b[0m\n\u001b[0;32m      1\u001b[0m \u001b[39mdef\u001b[39;00m \u001b[39mget_recommendations\u001b[39m(movie_title, movie_similarity, mean_ratings):\n\u001b[0;32m      2\u001b[0m     idx \u001b[39m=\u001b[39m mean_ratings[mean_ratings[\u001b[39m'\u001b[39m\u001b[39mtitle\u001b[39m\u001b[39m'\u001b[39m] \u001b[39m==\u001b[39m movie_title]\u001b[39m.\u001b[39mindex[\u001b[39m0\u001b[39m]\n\u001b[1;32m----> 3\u001b[0m     sim_scores \u001b[39m=\u001b[39m \u001b[39mlist\u001b[39m(\u001b[39menumerate\u001b[39m(movie_similarity[idx]))\n\u001b[0;32m      4\u001b[0m     sim_scores \u001b[39m=\u001b[39m \u001b[39msorted\u001b[39m(sim_scores, key\u001b[39m=\u001b[39m\u001b[39mlambda\u001b[39;00m x: x[\u001b[39m1\u001b[39m], reverse\u001b[39m=\u001b[39m\u001b[39mTrue\u001b[39;00m)\n\u001b[0;32m      5\u001b[0m     sim_indices \u001b[39m=\u001b[39m [i[\u001b[39m0\u001b[39m] \u001b[39mfor\u001b[39;00m i \u001b[39min\u001b[39;00m sim_scores[\u001b[39m1\u001b[39m:\u001b[39m11\u001b[39m]]\n",
      "\u001b[1;31mIndexError\u001b[0m: index 618 is out of bounds for axis 0 with size 610"
     ]
    }
   ],
   "source": [
    "print(\"TOP 10 RECOMMENDATION : \")\n",
    "recommended_movies = get_recommendations('Hunchback of Notre Dame, The (1996)', movie_similarity, mean_ratings)\n",
    "print(recommended_movies)\n",
    "\n",
    "import matplotlib.pyplot as plt\n",
    "recommended_ratings = mean_ratings[mean_ratings['title'].isin(recommended_movies)]\n",
    "recommended_ratings = recommended_ratings.set_index('title')['rating']\n",
    "\n",
    "plt.bar(recommended_ratings.index, recommended_ratings.values)\n",
    "\n",
    "plt.xlabel('Movie Title')\n",
    "plt.ylabel('Average Rating')\n",
    "plt.title('Top 10 Recommended Movies Based on Similarity to Toy Story')\n",
    "\n",
    "plt.xticks(rotation=90)\n",
    "plt.show()"
   ]
  },
  {
   "cell_type": "code",
   "execution_count": null,
   "metadata": {},
   "outputs": [
    {
     "data": {
      "application/vnd.jupyter.widget-view+json": {
       "model_id": "c3dceb30e0114a358b1f5571e9661d36",
       "version_major": 2,
       "version_minor": 0
      },
      "text/plain": [
       "interactive(children=(Dropdown(description='Select a movie:', options=('Toy Story (1995)', 'Jumanji (1995)', '…"
      ]
     },
     "execution_count": 12,
     "metadata": {},
     "output_type": "execute_result"
    }
   ],
   "source": [
    "movie_ratings = pd.merge(movies, ratings, on='movieId')\n",
    "mean_ratings = movie_ratings.groupby(['movieId', 'title'])['rating'].mean().reset_index()\n",
    "ratings_pivot = movie_ratings.pivot_table(index='userId', columns='title', values='rating').fillna(0)\n",
    "movie_similarity = cosine_similarity(ratings_pivot)\n",
    "\n",
    "movie_titles = list(movies['title'])\n",
    "\n",
    "movie_dropdown = widgets.Dropdown(options=movie_titles, description='Select a movie:')\n",
    "\n",
    "\n",
    "def get_recommendations(movie_title, movie_similarity, mean_ratings):\n",
    "    idx = mean_ratings[mean_ratings['title'] == movie_title].index[0]\n",
    "    sim_scores = list(enumerate(movie_similarity[idx]))\n",
    "    sim_scores = sorted(sim_scores, key=lambda x: x[1], reverse=True)\n",
    "    sim_indices = [i[0] for i in sim_scores[1:11]]\n",
    "    return mean_ratings.iloc[sim_indices][['title', 'rating', 'movieId']]\n",
    "\n",
    "def show_recommendations(movie_title):\n",
    "    recommended_movies = get_recommendations(movie_title, movie_similarity, mean_ratings)\n",
    "    recommended_ratings = mean_ratings[mean_ratings['title'].isin(recommended_movies['title'])]\n",
    "    recommended_ratings = recommended_ratings.set_index('title')['rating'].sort_values(ascending=False)[:10]\n",
    "    ax = recommended_ratings.plot(kind='bar', rot=90)\n",
    "    ax.set_xlabel('Movie Title')\n",
    "    ax.set_ylabel('Average Rating')\n",
    "    ax.set_title(f'Top 10 Recommended Movies Based on Similarity to {movie_title}')\n",
    "    plt.show()\n",
    "\n",
    "widgets.interactive(show_recommendations, movie_title=movie_dropdown)"
   ]
  }
 ],
 "metadata": {
  "kernelspec": {
   "display_name": "Python 3",
   "language": "python",
   "name": "python3"
  },
  "language_info": {
   "codemirror_mode": {
    "name": "ipython",
    "version": 3
   },
   "file_extension": ".py",
   "mimetype": "text/x-python",
   "name": "python",
   "nbconvert_exporter": "python",
   "pygments_lexer": "ipython3",
   "version": "3.9.5"
  },
  "orig_nbformat": 4
 },
 "nbformat": 4,
 "nbformat_minor": 2
}
